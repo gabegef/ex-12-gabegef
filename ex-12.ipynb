{
 "cells": [
  {
   "cell_type": "code",
   "execution_count": null,
   "metadata": {
    "vscode": {
     "languageId": "yaml"
    }
   },
   "outputs": [],
   "source": [
    "---\n",
    "  title: \"Ex-12: Clustering Taylor Swift Songs\"\n",
    "  author: \"INSERT YOUR NAME HERE\"\n",
    "  format:\n",
    "    html:\n",
    "      embed-resources: true\n",
    "  toc: true\n",
    "  jupyter: python3\n",
    "  ---"
   ]
  },
  {
   "cell_type": "markdown",
   "metadata": {},
   "source": [
    "## **Step 1: Setup and Data Preprocessing**\n",
    "\n",
    "1.  Load the dataset using **`pandas`**.\n",
    "\n",
    "2.  Select relevant features for clustering (**`danceability`**, **`energy`**, **`loudness`**, **`speechiness`**, **`acousticness`**, **`instrumentalness`**, **`liveness`**, **`valence`**, **`tempo`**).\n",
    "\n",
    "3.  Normalize the selected features to have the same scale."
   ]
  },
  {
   "cell_type": "code",
   "execution_count": null,
   "metadata": {},
   "outputs": [],
   "source": []
  },
  {
   "cell_type": "markdown",
   "metadata": {},
   "source": [
    "## **Step 2:** Implement Gaussian Mixture Model (GMM)\n",
    "\n",
    "1.  Import **`GaussianMixture`** from **`sklearn.mixture`**.\n",
    "\n",
    "2.  Determine the optimal number of components (clusters) using a criterion like the Bayesian Information Criterion (BIC) or Akaike Information Criterion (AIC).\n",
    "\n",
    "3.  Fit the GMM to the data."
   ]
  },
  {
   "cell_type": "code",
   "execution_count": null,
   "metadata": {},
   "outputs": [],
   "source": []
  },
  {
   "cell_type": "markdown",
   "metadata": {},
   "source": [
    "## **Step 3:** Analysis and Visualization\n",
    "\n",
    "1.  Predict the soft assignments of the samples to the clusters.\n",
    "\n",
    "2.  Visualize the clusters using a dimensionality reduction technique like PCA (Principal Component Analysis) to reduce the data to two dimensions for plotting.\n",
    "\n",
    "3.  Analyze the characteristics of each cluster by examining the cluster centers."
   ]
  },
  {
   "cell_type": "code",
   "execution_count": null,
   "metadata": {},
   "outputs": [],
   "source": []
  },
  {
   "cell_type": "markdown",
   "metadata": {},
   "source": [
    "## **Step 4:** Discussion\n",
    "\n",
    "1.  Discuss the interpretation of each cluster based on their centroids.\n",
    "\n",
    "2.  Explore how different numbers of clusters affect the BIC/AIC and the cluster interpretation.\n",
    "\n",
    "3.  Consider the implications of soft clustering vs. hard clustering in the context of music tracks."
   ]
  },
  {
   "cell_type": "code",
   "execution_count": null,
   "metadata": {},
   "outputs": [],
   "source": []
  }
 ],
 "metadata": {
  "language_info": {
   "name": "python"
  }
 },
 "nbformat": 4,
 "nbformat_minor": 2
}
